{
 "cells": [
  {
   "cell_type": "code",
   "execution_count": 10,
   "metadata": {},
   "outputs": [],
   "source": [
    "import time\n",
    "import copy"
   ]
  },
  {
   "cell_type": "code",
   "execution_count": 11,
   "metadata": {},
   "outputs": [],
   "source": [
    "def create_universe(size):\n",
    "    universe = []\n",
    "    for k in range(size):\n",
    "        universe.append(k + 1)\n",
    "    universe = set(universe)\n",
    "    return universe"
   ]
  },
  {
   "cell_type": "code",
   "execution_count": 12,
   "metadata": {},
   "outputs": [],
   "source": [
    "def create_sets(cover,n,m):\n",
    "    sets = [[] for k in range(m)]\n",
    "    for i in range(n):\n",
    "        for element in cover[i][1]:\n",
    "            sets[element-1].append(i+1)\n",
    "    return sets"
   ]
  },
  {
   "cell_type": "code",
   "execution_count": 13,
   "metadata": {},
   "outputs": [],
   "source": [
    "def find_k_max(cover,n):\n",
    "    result = 1000000000000000\n",
    "    for k in range(n):\n",
    "        if cover[k][0]<result:\n",
    "            result = cover[k][0]\n",
    "    return result"
   ]
  },
  {
   "cell_type": "code",
   "execution_count": 14,
   "metadata": {},
   "outputs": [],
   "source": [
    "def get_input_from_file(input_file):\n",
    "    f = open(input_file, \"r\")\n",
    "    pomocna = f.readline()\n",
    "    pomocna = pomocna.split()\n",
    "    n = int(pomocna[0]) #br univerzuma\n",
    "    m = int(pomocna[1]) #br podskupova\n",
    "\n",
    "    c = [] #cijena j-og skupa\n",
    "    while len(c)<m:\n",
    "        pomocna = f.readline()\n",
    "        pomocna = pomocna.split()\n",
    "        for j in pomocna:\n",
    "            c.append(int(j))\n",
    "    \n",
    "    d = {}\n",
    "    for i in range(n):\n",
    "        pomocna = f.readline()\n",
    "        k = int(pomocna)\n",
    "        pomocna3 = []\n",
    "        while len(pomocna3)<k:\n",
    "            pomocna = f.readline()\n",
    "            pomocna = pomocna.split()\n",
    "            for j in pomocna:\n",
    "                pomocna3.append(int(j))\n",
    "        d[i] = [ k, pomocna3.copy()]\n",
    "\n",
    "    rezultat = []\n",
    "    rezultat.append(n)\n",
    "    rezultat.append(m)\n",
    "    rezultat.append(c.copy())\n",
    "    rezultat.append(d)\n",
    "    return rezultat"
   ]
  },
  {
   "cell_type": "code",
   "execution_count": 15,
   "metadata": {},
   "outputs": [],
   "source": [
    "def print_to_file(output_file, result, start_time):\n",
    "    end_time = time.time()\n",
    "\n",
    "    f = open(output_file, \"w\")\n",
    "    f.write(\"Cijena: \\n\")\n",
    "    f.write(str(result[1]))\n",
    "    f.write(\"\\n\")\n",
    "    f.write(\"Vrijeme:  \")\n",
    "    f.write(str(end_time - start_time))"
   ]
  },
  {
   "cell_type": "code",
   "execution_count": 16,
   "metadata": {},
   "outputs": [],
   "source": [
    "def get_best_set(sets,element_coverage,cost,k,selected_ids):\n",
    "        cost_per_cover = []\n",
    "        for j in range(len(sets)):\n",
    "            coverage = sum(1 for element in sets[j] if element_coverage[element] < k)\n",
    "            if coverage !=0:\n",
    "                cost_per_cover.append([cost[j]/coverage,coverage])\n",
    "            else:\n",
    "                cost_per_cover.append([10000000,coverage])\n",
    "        \n",
    "        best_set_indeks = 0\n",
    "        best_set_cover = 10000000000 \n",
    "        for p in range(len(sets)):\n",
    "             if selected_ids[p]!=1:\n",
    "                if cost_per_cover[p][0]<best_set_cover:\n",
    "                        best_set_indeks = p\n",
    "                        best_set_cover = cost_per_cover[p][0]\n",
    "                elif cost_per_cover[p][0]==best_set_cover:\n",
    "                    if cost_per_cover[p][1]>cost_per_cover[best_set_indeks][1]:\n",
    "                            best_set_indeks = p\n",
    "                            best_set_cover = cost_per_cover[p][0] \n",
    "        return best_set_indeks"
   ]
  },
  {
   "cell_type": "code",
   "execution_count": 17,
   "metadata": {},
   "outputs": [],
   "source": [
    "def k_time_covered_set(universe, sets, c, k):\n",
    "    universe = list(set(universe))\n",
    "    element_coverage = {element: 0 for element in universe}\n",
    "    selected_sets = []\n",
    "    selected_ids = [0 for element in sets]\n",
    "    selected_cost = 0\n",
    "    \n",
    "    while any(coverage < k for coverage in element_coverage.values()):\n",
    "        best_set_id = get_best_set(sets,element_coverage,c,k,selected_ids)\n",
    "        best_set = sets[best_set_id]\n",
    "        for element in best_set:\n",
    "            element_coverage[element] += 1\n",
    "        selected_ids[best_set_id] = 1\n",
    "        selected_sets.append(sets[best_set_id])\n",
    "        selected_cost += c[best_set_id]  \n",
    "    return selected_sets, selected_cost, selected_ids\n",
    "\n"
   ]
  },
  {
   "cell_type": "code",
   "execution_count": 18,
   "metadata": {},
   "outputs": [],
   "source": [
    "files = [\"scp01.txt\"]\n",
    "for f in files:\n",
    "    input_file = f\n",
    "    data = get_input_from_file(\"instance\\\\\"+input_file)\n",
    "    n = data[0]\n",
    "    m = data[1]\n",
    "    cost = data[2]\n",
    "    cover = data[3]\n",
    "\n",
    "    sets = create_sets(cover,n,m)\n",
    "    universe = create_universe(n)\n",
    "    k_min = 2\n",
    "    k_max = find_k_max(cover,n)\n",
    "    k_med = (k_min+k_max)//2\n",
    "    start_time = time.time()\n",
    "\n",
    "    print_to_file(\"rjesenja_k_min\\gready\\gready_\"+input_file,k_time_covered_set(universe,sets,cost,k_min), start_time)\n"
   ]
  }
 ],
 "metadata": {
  "kernelspec": {
   "display_name": "Python 3",
   "language": "python",
   "name": "python3"
  },
  "language_info": {
   "codemirror_mode": {
    "name": "ipython",
    "version": 3
   },
   "file_extension": ".py",
   "mimetype": "text/x-python",
   "name": "python",
   "nbconvert_exporter": "python",
   "pygments_lexer": "ipython3",
   "version": "3.9.5"
  }
 },
 "nbformat": 4,
 "nbformat_minor": 2
}
