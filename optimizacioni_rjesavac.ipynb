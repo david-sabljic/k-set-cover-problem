{
 "cells": [
  {
   "cell_type": "code",
   "execution_count": 12,
   "metadata": {},
   "outputs": [],
   "source": [
    "from pulp import *\n",
    "import time"
   ]
  },
  {
   "cell_type": "code",
   "execution_count": 13,
   "metadata": {},
   "outputs": [],
   "source": [
    "def get_input_from_file(input_file):\n",
    "    f = open(input_file, \"r\")\n",
    "    pomocna = f.readline()\n",
    "    pomocna = pomocna.split()\n",
    "    n = int(pomocna[0]) #br univerzuma\n",
    "    m = int(pomocna[1]) #br podskupova\n",
    "\n",
    "    c = [] #cijena j-og skupa\n",
    "    while len(c)<m:\n",
    "        pomocna = f.readline()\n",
    "        pomocna = pomocna.split()\n",
    "        for j in pomocna:\n",
    "            c.append(int(j))\n",
    "\n",
    "    d = {}\n",
    "    for i in range(n):\n",
    "        pomocna = f.readline()\n",
    "        k = int(pomocna)\n",
    "        pomocna3 = []\n",
    "        while len(pomocna3)<k:\n",
    "            pomocna = f.readline()\n",
    "            pomocna = pomocna.split()\n",
    "            for j in pomocna:\n",
    "                pomocna3.append(int(j))\n",
    "        d[i] = [ k, pomocna3.copy()]\n",
    "\n",
    "    rezultat = []\n",
    "    rezultat.append(n)\n",
    "    rezultat.append(m)\n",
    "    rezultat.append(c.copy())\n",
    "    rezultat.append(d)\n",
    "    return rezultat"
   ]
  },
  {
   "cell_type": "code",
   "execution_count": 14,
   "metadata": {},
   "outputs": [],
   "source": [
    "def create_universe(size):\n",
    "    universe = []\n",
    "    for k in range(size):\n",
    "        universe.append(k+1)\n",
    "    universe=set(universe)\n",
    "    return universe"
   ]
  },
  {
   "cell_type": "code",
   "execution_count": 15,
   "metadata": {},
   "outputs": [],
   "source": [
    "def find_k_max(cover,n):\n",
    "    result = 1000000000000000\n",
    "    for k in range(n):\n",
    "        if cover[k][0]<result:\n",
    "            result = cover[k][0]\n",
    "    return result"
   ]
  },
  {
   "cell_type": "code",
   "execution_count": 16,
   "metadata": {},
   "outputs": [],
   "source": [
    "files = [\"scp01.txt\"]\n",
    "for f in files:\n",
    "  input_file = f\n",
    "  data = get_input_from_file(\"instance//\"+input_file)\n",
    "  n = data[0]\n",
    "  m = data[1]\n",
    "  cost = data[2]\n",
    "  sets = data[3]\n",
    "\n",
    "  universe = create_universe(m)\n",
    "  k_min = 2\n",
    "  k_max = find_k_max(sets,n)\n",
    "  k_med = (k_min+k_max)//2\n",
    "  \n",
    "  a = [[0 for j in range(m)] for k in range(n)]\n",
    "  \n",
    "  for j in range(n):\n",
    "    for k in sets[j][1]:\n",
    "      a[j][k-1] = 1\n",
    "  \n",
    "  model = LpProblem(\"test\", LpMinimize)\n",
    "  \n",
    "  x = LpVariable.dicts(\"X\", [j for j in range(m)], 0, 1, LpBinary)\n",
    "  \n",
    "  model += lpSum(cost[j]*x[j] for j in range(m))\n",
    "  \n",
    "  for i in range(n):\n",
    "    model += lpSum(a[i][j]*x[j] for j in range(m))>=k_min\n",
    "  \n",
    "  start_time = time.time()\n",
    "  model.solve(PULP_CBC_CMD(timeLimit=1000, msg=1, gapRel=0))\n",
    "  end_time = time.time()\n",
    "  \n",
    "  f = open(\"PULP_\"+input_file,\"w\")\n",
    "  f.write(\"Rezultat:\\n\")\n",
    "  f.write(str(value(model.objective)))\n",
    "  f.write(\"\\nVrijeme:\\n\")\n",
    "  f.write(str(end_time-start_time))\n",
    "  f.close()"
   ]
  }
 ],
 "metadata": {
  "kernelspec": {
   "display_name": "Python 3",
   "language": "python",
   "name": "python3"
  },
  "language_info": {
   "codemirror_mode": {
    "name": "ipython",
    "version": 3
   },
   "file_extension": ".py",
   "mimetype": "text/x-python",
   "name": "python",
   "nbconvert_exporter": "python",
   "pygments_lexer": "ipython3",
   "version": "3.9.5"
  }
 },
 "nbformat": 4,
 "nbformat_minor": 2
}
